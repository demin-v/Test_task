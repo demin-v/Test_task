{
 "cells": [
  {
   "cell_type": "markdown",
   "metadata": {},
   "source": [
    "### 1. Написать функцию на Python\n",
    "\n",
    "Напиши функцию, которая удалит дубликаты в списке. Список не отсортирован. Необходимо сохранить порядок сортировки оригинального списка.\n",
    "\n",
    "Примеры:\n",
    "- [1, 2, 3, 1] → [1, 2, 3]\n",
    "- [1, 3, 2, 1, 5, 3, 5, 1, 4] → [1, 3, 2, 5, 4]\n",
    "\n",
    "Какая асимптотическая сложность у этой функций?\n",
    "\n",
    "Если задание покажется слишком простым, можешь дополнительно написать юнит тест или doctest.\n"
   ]
  },
  {
   "cell_type": "code",
   "execution_count": 1,
   "metadata": {},
   "outputs": [
    {
     "name": "stdout",
     "output_type": "stream",
     "text": [
      "Original list 1 [1, 2, 3, 1]\n",
      "Original list 2 [1, 3, 2, 1, 5, 3, 5, 1, 4]\n",
      "Original list 3 [4, 5, 5, 5, 5, 1, 5, 0, 1, 4, 2, 1, 5, 1, 0, 4, 5, 1, 3, 2]\n",
      "Original list 4 [15, 1, 0, 9, 11, 13, 1, 12, 20, 6, 14, 13, 2, 0, 13, 17, 13, 1, 20, 10, 8, 1, 12, 9, 19, 14, 10, 19, 15, 16]\n"
     ]
    }
   ],
   "source": [
    "import random as r\n",
    "\n",
    "lst_1 = [1, 2, 3, 1]\n",
    "lst_2 = [1, 3, 2, 1, 5, 3, 5, 1, 4]\n",
    "lst_3 = [r.randint(0, 5) for _ in range(20)]\n",
    "lst_4 = [r.randint(0, 20) for _ in range(30)]\n",
    "\n",
    "print('Original list 1',lst_1)\n",
    "print('Original list 2',lst_2)\n",
    "print('Original list 3',lst_3)\n",
    "print('Original list 4',lst_4)"
   ]
  },
  {
   "cell_type": "code",
   "execution_count": 2,
   "metadata": {},
   "outputs": [],
   "source": [
    "def unique_list(lst):\n",
    "    result = []\n",
    "    for value in lst:\n",
    "        if value not in result:\n",
    "            result.append(value)\n",
    "    return result"
   ]
  },
  {
   "cell_type": "code",
   "execution_count": 3,
   "metadata": {},
   "outputs": [
    {
     "name": "stdout",
     "output_type": "stream",
     "text": [
      "Unique values of list 1 [1, 2, 3]\n",
      "Unique values of list 2 [1, 3, 2, 5, 4]\n",
      "Unique values of list 3 [4, 5, 1, 0, 2, 3]\n",
      "Unique values of list 4 [15, 1, 0, 9, 11, 13, 12, 20, 6, 14, 2, 17, 10, 8, 19, 16]\n"
     ]
    }
   ],
   "source": [
    "print('Unique values of list 1',unique_list(lst_1))\n",
    "print('Unique values of list 2',unique_list(lst_2))\n",
    "print('Unique values of list 3',unique_list(lst_3))\n",
    "print('Unique values of list 4',unique_list(lst_4))"
   ]
  },
  {
   "cell_type": "markdown",
   "metadata": {},
   "source": [
    "Ассимптотическая сложность алгоритма unique_list:\n",
    "\n",
    "1. result = [] О(1)-сложность\n",
    "2. for value in lst: O(n)-сложность, где n - количество элементов в массиве\n",
    "3. if value not in result: O(k-1) ≈ O(k) - сложность, где k количество уникальных элементов, k <= n\n",
    "4. result.append(value) О(1)-сложность\n",
    "\n",
    "Общая сложность О(1 * n * k * 1) = О(n * k)\n",
    "- O(n) в лучшем случае, когда k = 1\n",
    "- О(k * n) в среднем, когда k < n\n",
    "- O(n^2) в худшем случае, когда k = n"
   ]
  },
  {
   "cell_type": "markdown",
   "metadata": {},
   "source": [
    "### 2. Написать SQL запрос\n",
    "\n",
    "Дана таблица employees всех сотрудников компании. Поля:\n",
    "- full_name TEXT (PK),\n",
    "- position TEXT,\n",
    "- department TEXT.\n",
    "\n",
    "Напиши запрос, выводящий все отделы, в которых меньше 5 разработчиков (position = 'Software Developer').\n"
   ]
  },
  {
   "cell_type": "markdown",
   "metadata": {},
   "source": [
    "#### SQL-запрос:\n",
    "\n",
    "``` mysql\n",
    "SELECT \n",
    "    department\n",
    "FROM\n",
    "    employees\n",
    "WHERE\n",
    "    position = 'Software Developer'\n",
    "GROUP BY\n",
    "    department\n",
    "HAVING\n",
    "    count(position) < 5\n",
    "```"
   ]
  },
  {
   "cell_type": "markdown",
   "metadata": {},
   "source": [
    "### 3. Решить задачу\n",
    "\n",
    "Подкинули монету N раз. Кол-во случаев, когда выпал орёл, на 10% больше, чем кол-во случаев, когда выпала решка. При каком N мы можем сказать, что монета «нечестная» (орёл и решка выпадают с разной вероятностью)?\n"
   ]
  },
  {
   "cell_type": "markdown",
   "metadata": {},
   "source": [
    "#### Решение:\n",
    "\n",
    "Опишем общую формулу количества орлов и решек в задаче: \n",
    "\n",
    "$N=h+t$ \n",
    "\n",
    ",где $N$ - количество всех бросков монеты, $h$ - количество выпавших орлов, $t$ - количество выпавших решек.\n",
    "\n",
    "По условию задачи сказано, что выпавших орлов $h$ на 10% больше, это выражается формулой:\n",
    "\n",
    "$h = 1.1*t$\n",
    "\n",
    "Заменим $h$ в основой формуле и получим:\n",
    "\n",
    "$N=1.1*t+t=2.1*t$\n",
    "\n",
    "Из нее можно получить, чему равно количесво выпавших решек $t$:\n",
    "\n",
    "$t=\\frac{N}{2.1}$\n",
    "\n",
    "Для ответа на вопрос ограничимся целыми значениями $t$ из формулы выше. \n",
    "\n",
    "##### Ответ: 42\n",
    "\n",
    "При $N=42$ по формулам можно получить, что $t=20$ и $h=22$. При математическом ожидании \"честной\" монетки должно получится $t=h=21$. \n",
    "\n",
    "Вероятности выпадения орла и решки в \"нечестной\" монете равны:\n",
    "\n",
    "$P(t) = \\frac{t}{N} = \\frac{\\frac{N}{2.1}}{N} = \\frac{1}{2.1} ≈ 0.476$<br>\n",
    "$P(h) = 1 - P(t) ≈ 1 - 0.476 ≈ 0.524$"
   ]
  }
 ],
 "metadata": {
  "kernelspec": {
   "display_name": "Python 3",
   "language": "python",
   "name": "python3"
  },
  "language_info": {
   "codemirror_mode": {
    "name": "ipython",
    "version": 3
   },
   "file_extension": ".py",
   "mimetype": "text/x-python",
   "name": "python",
   "nbconvert_exporter": "python",
   "pygments_lexer": "ipython3",
   "version": "3.7.6"
  }
 },
 "nbformat": 4,
 "nbformat_minor": 4
}
